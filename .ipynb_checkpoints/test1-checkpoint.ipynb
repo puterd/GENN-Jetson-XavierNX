{
 "cells": [
  {
   "cell_type": "code",
   "execution_count": 24,
   "id": "51fe28f4-f40f-4508-abd1-edcf1d334dd7",
   "metadata": {},
   "outputs": [
    {
     "name": "stdout",
     "output_type": "stream",
     "text": [
      "env: CUDA_PATH=/usr/local/cuda\n"
     ]
    }
   ],
   "source": [
    "%env CUDA_PATH=/usr/local/cuda"
   ]
  },
  {
   "cell_type": "code",
   "execution_count": 25,
   "id": "69ecf73c-d674-49af-b84a-1909bbb95fda",
   "metadata": {},
   "outputs": [],
   "source": [
    "import numpy as np\n",
    "import matplotlib.pyplot as plt\n",
    "from pygenn.genn_model import (create_custom_neuron_class,\n",
    "                               create_custom_current_source_class,\n",
    "                               GeNNModel)"
   ]
  },
  {
   "cell_type": "code",
   "execution_count": 26,
   "id": "46dcaf58-a87a-435f-aa62-58ef66acc1cd",
   "metadata": {},
   "outputs": [],
   "source": [
    "TIMESTEP = 1.0\n",
    "PRESENT_TIMESTEPS = 100\n",
    "INPUT_CURRENT_SCALE = 1.0 / 100.0"
   ]
  },
  {
   "cell_type": "code",
   "execution_count": 27,
   "id": "d7887e75-5c22-42ad-8ec3-c328ca090cb6",
   "metadata": {},
   "outputs": [],
   "source": [
    "if_model = create_custom_neuron_class(\n",
    "    \"if_model\",\n",
    "    param_names=[\"Vthr\"],\n",
    "    var_name_types=[(\"V\", \"scalar\")],\n",
    "    sim_code=\"$(V) += $(Isyn);\",\n",
    "    threshold_condition_code=\"$(V) >= $(Vthr)\",\n",
    "    reset_code=\"\"\"\n",
    "    $(V) = 0.0;\n",
    "    \"\"\")"
   ]
  },
  {
   "cell_type": "code",
   "execution_count": 28,
   "id": "6a2ff9f0-5ca9-4570-81c2-03f5fe92ddb5",
   "metadata": {},
   "outputs": [],
   "source": [
    "# Digits to spikes \n",
    "# Treats the intensity of each pixel (multiplied by a scaling factor) as current injecting it into the neurons in the input population throughout the stimulus presentation time.  \n",
    "\n",
    "cs_model = create_custom_current_source_class(\n",
    "    \"cs_model\",\n",
    "    var_name_types=[(\"magnitude\", \"scalar\")],\n",
    "    injection_code=\"$(injectCurrent, $(magnitude));\")\n",
    "\n"
   ]
  },
  {
   "cell_type": "code",
   "execution_count": 29,
   "id": "4f645d59-84c0-4814-86e6-4884428059dc",
   "metadata": {},
   "outputs": [],
   "source": [
    "model = GeNNModel(\"float\", \"pwd\")\n",
    "model.dT = TIMESTEP"
   ]
  },
  {
   "cell_type": "code",
   "execution_count": 30,
   "id": "395fd882",
   "metadata": {},
   "outputs": [],
   "source": [
    "# Load weights\n",
    "weights_0_1 = np.load(\"weights_0_1.npy\")\n",
    "weights_1_2 = np.load(\"weights_1_2.npy\")"
   ]
  },
  {
   "cell_type": "code",
   "execution_count": 31,
   "id": "00a07b85-9123-4de8-b366-c107b6ce5b83",
   "metadata": {},
   "outputs": [],
   "source": [
    "if_init = {\"V\": 0.0}\n",
    "if_params = {\"Vthr\": 5.0}\n",
    "neurons = [model.add_neuron_population(\"neuron0\", weights_0_1.shape[0],\n",
    "                                       if_model, if_params, if_init),\n",
    "           model.add_neuron_population(\"neuron1\", weights_0_1.shape[1],\n",
    "                                       if_model, if_params, if_init),\n",
    "           model.add_neuron_population(\"neuron2\", weights_1_2.shape[1],\n",
    "                                       if_model, if_params, if_init)]"
   ]
  },
  {
   "cell_type": "code",
   "execution_count": 32,
   "id": "dac434d5-1008-4106-90f6-4e2d72acfed2",
   "metadata": {},
   "outputs": [],
   "source": [
    "for n in neurons:\n",
    "    n.spike_recording_enabled = True"
   ]
  },
  {
   "cell_type": "code",
   "execution_count": 33,
   "id": "c682a3bd-5309-417b-9ab4-86007fd9793c",
   "metadata": {},
   "outputs": [],
   "source": [
    "model.add_synapse_population(\n",
    "        \"synapse_0_1\", \"DENSE_INDIVIDUALG\", 0,\n",
    "        neurons[0], neurons[1],\n",
    "        \"StaticPulse\", {}, {\"g\": weights_0_1.flatten()}, {}, {},\n",
    "        \"DeltaCurr\", {}, {})\n",
    "model.add_synapse_population(\n",
    "        \"synapse_1_2\", \"DENSE_INDIVIDUALG\", 0,\n",
    "        neurons[1], neurons[2],\n",
    "        \"StaticPulse\", {}, {\"g\": weights_1_2.flatten()}, {}, {},\n",
    "        \"DeltaCurr\", {}, {});"
   ]
  },
  {
   "cell_type": "code",
   "execution_count": 34,
   "id": "67dc56b9-9640-46f1-8da9-b6a6d83c3c2a",
   "metadata": {},
   "outputs": [],
   "source": [
    "current_input = model.add_current_source(\"current_input\", cs_model,\n",
    "                                         neurons[0], {}, {\"magnitude\": 0.0})\n"
   ]
  },
  {
   "cell_type": "code",
   "execution_count": 35,
   "id": "9cc64a1f-a9d0-475f-8fef-b8949462bce8",
   "metadata": {},
   "outputs": [
    {
     "name": "stdout",
     "output_type": "stream",
     "text": [
      "make: Entering directory '/home/pjmuffin/initial/pwd_CODE'\n",
      "make: Nothing to be done for 'all'.\n",
      "make: Leaving directory '/home/pjmuffin/initial/pwd_CODE'\n"
     ]
    }
   ],
   "source": [
    "model.build()\n",
    "model.load(num_recording_timesteps=PRESENT_TIMESTEPS)"
   ]
  },
  {
   "cell_type": "code",
   "execution_count": 36,
   "id": "c2d1f370-9f34-475d-9469-76a78d39f121",
   "metadata": {},
   "outputs": [],
   "source": [
    "testing_images = np.load(\"testing_images.npy\")\n",
    "testing_labels = np.load(\"testing_labels.npy\")\n",
    "\n",
    "assert testing_images.shape[1] == neurons[0].size\n",
    "assert np.max(testing_labels) == (neurons[-1].size - 1)"
   ]
  },
  {
   "cell_type": "code",
   "execution_count": 37,
   "id": "c99cfa23-df24-421b-b0d4-706d1df7806d",
   "metadata": {},
   "outputs": [],
   "source": [
    "current_input.vars[\"magnitude\"].view[:] = testing_images[0] * INPUT_CURRENT_SCALE"
   ]
  },
  {
   "cell_type": "code",
   "execution_count": 38,
   "id": "2644a1a7-b75f-4f92-91e5-e30386332190",
   "metadata": {},
   "outputs": [],
   "source": [
    "current_input.push_var_to_device(\"magnitude\")"
   ]
  },
  {
   "cell_type": "code",
   "execution_count": 39,
   "id": "d78e34a7-b1a9-4f78-9e96-c17c25e28fb0",
   "metadata": {},
   "outputs": [],
   "source": [
    "while model.timestep < PRESENT_TIMESTEPS:\n",
    "    model.step_time()"
   ]
  },
  {
   "cell_type": "code",
   "execution_count": 40,
   "id": "9192e2ce-67b9-41db-84ba-6f89b571897f",
   "metadata": {},
   "outputs": [],
   "source": [
    "model.pull_recording_buffers_from_device()"
   ]
  },
  {
   "cell_type": "code",
   "execution_count": 41,
   "id": "fafd6437-065c-4ab1-a0b2-4a4350615817",
   "metadata": {},
   "outputs": [
    {
     "data": {
      "image/png": "[encoded data removed]",
      "text/plain": [
       "<Figure size 640x480 with 3 Axes>"
      ]
     },
     "metadata": {},
     "output_type": "display_data"
    }
   ],
   "source": [
    "# Create figure with one axis per neuron population\n",
    "fig, axes = plt.subplots(len(neurons), sharex=True)\n",
    "\n",
    "# Loop through neuron populations and the axis we're going to plot their raster plot on\n",
    "for n, a in zip(neurons, axes):\n",
    "    # Extract spike times and IDs and plot\n",
    "    spike_times, spike_ids = n.spike_recording_data\n",
    "    a.scatter(spike_times, spike_ids, s=1)\n",
    "\n",
    "    a.set_title(n.name)\n",
    "    a.set_ylabel(\"Neuron ID\")\n",
    "    a.set_xlim((0, PRESENT_TIMESTEPS * TIMESTEP))\n",
    "    a.set_ylim((0, n.size))\n",
    "\n",
    "# Add an x-axis label and translucent line showing the correct label\n",
    "axes[-1].set_xlabel(\"Time [ms]\")\n",
    "axes[-1].hlines(testing_labels[0], xmin=0, xmax=PRESENT_TIMESTEPS,\n",
    "                linestyle=\"--\", color=\"gray\", alpha=0.2);"
   ]
  },
  {
   "cell_type": "code",
   "execution_count": null,
   "id": "27ae1df1-3f29-417a-841e-4a28bdbcb775",
   "metadata": {},
   "outputs": [],
   "source": []
  },
  {
   "cell_type": "code",
   "execution_count": null,
   "id": "2c360893-89a9-4aa9-b7e3-d3e89febaa92",
   "metadata": {},
   "outputs": [],
   "source": []
  },
  {
   "cell_type": "code",
   "execution_count": null,
   "id": "735cd696-7cea-4a2a-9084-5ce43b8473a7",
   "metadata": {},
   "outputs": [],
   "source": []
  }
 ],
 "metadata": {
  "kernelspec": {
   "display_name": "Python 3 (ipykernel)",
   "language": "python",
   "name": "python3"
  },
  "language_info": {
   "codemirror_mode": {
    "name": "ipython",
    "version": 3
   },
   "file_extension": ".py",
   "mimetype": "text/x-python",
   "name": "python",
   "nbconvert_exporter": "python",
   "pygments_lexer": "ipython3",
   "version": "3.8.10"
  }
 },
 "nbformat": 4,
 "nbformat_minor": 5
}
